{
 "cells": [
  {
   "cell_type": "code",
   "execution_count": 1,
   "metadata": {},
   "outputs": [],
   "source": [
    "import os\n",
    "import pandas as pd\n",
    "import numpy as np\n",
    "\n",
    "import plotly.express as px"
   ]
  },
  {
   "cell_type": "code",
   "execution_count": 2,
   "metadata": {},
   "outputs": [
    {
     "data": {
      "text/plain": [
       "'c:\\\\PythonProject\\\\EDA-Project'"
      ]
     },
     "execution_count": 2,
     "metadata": {},
     "output_type": "execute_result"
    }
   ],
   "source": [
    "os.chdir(\"c:\\\\PythonProject\\\\EDA-Project\")\n",
    "os.getcwd()"
   ]
  },
  {
   "cell_type": "code",
   "execution_count": 3,
   "metadata": {},
   "outputs": [],
   "source": [
    "str_path_data = \"./data/sKor_data_tot_v02.csv\""
   ]
  },
  {
   "cell_type": "code",
   "execution_count": 4,
   "metadata": {},
   "outputs": [
    {
     "data": {
      "text/html": [
       "<div>\n",
       "<style scoped>\n",
       "    .dataframe tbody tr th:only-of-type {\n",
       "        vertical-align: middle;\n",
       "    }\n",
       "\n",
       "    .dataframe tbody tr th {\n",
       "        vertical-align: top;\n",
       "    }\n",
       "\n",
       "    .dataframe thead th {\n",
       "        text-align: right;\n",
       "    }\n",
       "</style>\n",
       "<table border=\"1\" class=\"dataframe\">\n",
       "  <thead>\n",
       "    <tr style=\"text-align: right;\">\n",
       "      <th></th>\n",
       "      <th>Unnamed: 0</th>\n",
       "      <th>id_hs</th>\n",
       "      <th>id_hh</th>\n",
       "      <th>cat_loc_div</th>\n",
       "      <th>cat_sz_cty</th>\n",
       "      <th>cat_hus_typ</th>\n",
       "      <th>num_flr</th>\n",
       "      <th>num_out_wls</th>\n",
       "      <th>cat_hus_dir_fce</th>\n",
       "      <th>cat_hus_blt_yr</th>\n",
       "      <th>...</th>\n",
       "      <th>num_bat</th>\n",
       "      <th>num_out_wds</th>\n",
       "      <th>cat_fuel_heat</th>\n",
       "      <th>cat_cool</th>\n",
       "      <th>cat_fuel_cook</th>\n",
       "      <th>num_hus_mems</th>\n",
       "      <th>cat_mhh_occu</th>\n",
       "      <th>num_tot_energy_heat</th>\n",
       "      <th>num_mhh_age</th>\n",
       "      <th>num_hh_ann_incm</th>\n",
       "    </tr>\n",
       "  </thead>\n",
       "  <tbody>\n",
       "    <tr>\n",
       "      <th>0</th>\n",
       "      <td>0</td>\n",
       "      <td>2016_HS1101000001</td>\n",
       "      <td>2016_HH13110253</td>\n",
       "      <td>1</td>\n",
       "      <td>1</td>\n",
       "      <td>3</td>\n",
       "      <td>9</td>\n",
       "      <td>4</td>\n",
       "      <td>1</td>\n",
       "      <td>5</td>\n",
       "      <td>...</td>\n",
       "      <td>2</td>\n",
       "      <td>12</td>\n",
       "      <td>1</td>\n",
       "      <td>3</td>\n",
       "      <td>4</td>\n",
       "      <td>5</td>\n",
       "      <td>1</td>\n",
       "      <td>14787.630000</td>\n",
       "      <td>45</td>\n",
       "      <td>42000000</td>\n",
       "    </tr>\n",
       "    <tr>\n",
       "      <th>1</th>\n",
       "      <td>1</td>\n",
       "      <td>2016_HS1101000002</td>\n",
       "      <td>2016_HH14110053</td>\n",
       "      <td>1</td>\n",
       "      <td>1</td>\n",
       "      <td>2</td>\n",
       "      <td>2</td>\n",
       "      <td>4</td>\n",
       "      <td>3</td>\n",
       "      <td>5</td>\n",
       "      <td>...</td>\n",
       "      <td>2</td>\n",
       "      <td>20</td>\n",
       "      <td>1</td>\n",
       "      <td>3</td>\n",
       "      <td>4</td>\n",
       "      <td>3</td>\n",
       "      <td>3</td>\n",
       "      <td>15669.590000</td>\n",
       "      <td>55</td>\n",
       "      <td>66000000</td>\n",
       "    </tr>\n",
       "    <tr>\n",
       "      <th>2</th>\n",
       "      <td>2</td>\n",
       "      <td>2016_HS1101000003</td>\n",
       "      <td>2016_HH14110054</td>\n",
       "      <td>1</td>\n",
       "      <td>1</td>\n",
       "      <td>1</td>\n",
       "      <td>1</td>\n",
       "      <td>6</td>\n",
       "      <td>1</td>\n",
       "      <td>4</td>\n",
       "      <td>...</td>\n",
       "      <td>1</td>\n",
       "      <td>10</td>\n",
       "      <td>1</td>\n",
       "      <td>3</td>\n",
       "      <td>4</td>\n",
       "      <td>4</td>\n",
       "      <td>1</td>\n",
       "      <td>10811.384375</td>\n",
       "      <td>55</td>\n",
       "      <td>12000000</td>\n",
       "    </tr>\n",
       "    <tr>\n",
       "      <th>3</th>\n",
       "      <td>3</td>\n",
       "      <td>2016_HS1101000004</td>\n",
       "      <td>2016_HH14110055</td>\n",
       "      <td>1</td>\n",
       "      <td>1</td>\n",
       "      <td>2</td>\n",
       "      <td>1</td>\n",
       "      <td>6</td>\n",
       "      <td>3</td>\n",
       "      <td>3</td>\n",
       "      <td>...</td>\n",
       "      <td>1</td>\n",
       "      <td>15</td>\n",
       "      <td>1</td>\n",
       "      <td>3</td>\n",
       "      <td>4</td>\n",
       "      <td>4</td>\n",
       "      <td>1</td>\n",
       "      <td>9699.294732</td>\n",
       "      <td>45</td>\n",
       "      <td>25000000</td>\n",
       "    </tr>\n",
       "    <tr>\n",
       "      <th>4</th>\n",
       "      <td>4</td>\n",
       "      <td>2016_HS1101000006</td>\n",
       "      <td>2016_HH14110056</td>\n",
       "      <td>1</td>\n",
       "      <td>1</td>\n",
       "      <td>1</td>\n",
       "      <td>1</td>\n",
       "      <td>6</td>\n",
       "      <td>1</td>\n",
       "      <td>6</td>\n",
       "      <td>...</td>\n",
       "      <td>2</td>\n",
       "      <td>8</td>\n",
       "      <td>1</td>\n",
       "      <td>3</td>\n",
       "      <td>5</td>\n",
       "      <td>4</td>\n",
       "      <td>1</td>\n",
       "      <td>16089.620000</td>\n",
       "      <td>55</td>\n",
       "      <td>66000000</td>\n",
       "    </tr>\n",
       "    <tr>\n",
       "      <th>5</th>\n",
       "      <td>5</td>\n",
       "      <td>2016_HS1101000007</td>\n",
       "      <td>2016_HH14110057</td>\n",
       "      <td>1</td>\n",
       "      <td>1</td>\n",
       "      <td>1</td>\n",
       "      <td>1</td>\n",
       "      <td>5</td>\n",
       "      <td>2</td>\n",
       "      <td>3</td>\n",
       "      <td>...</td>\n",
       "      <td>1</td>\n",
       "      <td>10</td>\n",
       "      <td>1</td>\n",
       "      <td>3</td>\n",
       "      <td>4</td>\n",
       "      <td>3</td>\n",
       "      <td>1</td>\n",
       "      <td>11562.120322</td>\n",
       "      <td>55</td>\n",
       "      <td>54000000</td>\n",
       "    </tr>\n",
       "    <tr>\n",
       "      <th>6</th>\n",
       "      <td>6</td>\n",
       "      <td>2016_HS1101000008</td>\n",
       "      <td>2016_HH14110058</td>\n",
       "      <td>1</td>\n",
       "      <td>1</td>\n",
       "      <td>1</td>\n",
       "      <td>2</td>\n",
       "      <td>5</td>\n",
       "      <td>1</td>\n",
       "      <td>3</td>\n",
       "      <td>...</td>\n",
       "      <td>1</td>\n",
       "      <td>8</td>\n",
       "      <td>1</td>\n",
       "      <td>3</td>\n",
       "      <td>4</td>\n",
       "      <td>4</td>\n",
       "      <td>3</td>\n",
       "      <td>14162.990000</td>\n",
       "      <td>55</td>\n",
       "      <td>54000000</td>\n",
       "    </tr>\n",
       "    <tr>\n",
       "      <th>7</th>\n",
       "      <td>7</td>\n",
       "      <td>2016_HS1102000001</td>\n",
       "      <td>2016_HH13110255</td>\n",
       "      <td>1</td>\n",
       "      <td>1</td>\n",
       "      <td>2</td>\n",
       "      <td>2</td>\n",
       "      <td>5</td>\n",
       "      <td>2</td>\n",
       "      <td>4</td>\n",
       "      <td>...</td>\n",
       "      <td>1</td>\n",
       "      <td>10</td>\n",
       "      <td>1</td>\n",
       "      <td>3</td>\n",
       "      <td>4</td>\n",
       "      <td>4</td>\n",
       "      <td>3</td>\n",
       "      <td>15608.880000</td>\n",
       "      <td>55</td>\n",
       "      <td>42000000</td>\n",
       "    </tr>\n",
       "    <tr>\n",
       "      <th>8</th>\n",
       "      <td>8</td>\n",
       "      <td>2016_HS1102000002</td>\n",
       "      <td>2016_HH13110256</td>\n",
       "      <td>1</td>\n",
       "      <td>1</td>\n",
       "      <td>3</td>\n",
       "      <td>11</td>\n",
       "      <td>4</td>\n",
       "      <td>3</td>\n",
       "      <td>4</td>\n",
       "      <td>...</td>\n",
       "      <td>1</td>\n",
       "      <td>18</td>\n",
       "      <td>1</td>\n",
       "      <td>1</td>\n",
       "      <td>4</td>\n",
       "      <td>4</td>\n",
       "      <td>1</td>\n",
       "      <td>12356.080000</td>\n",
       "      <td>35</td>\n",
       "      <td>78000000</td>\n",
       "    </tr>\n",
       "    <tr>\n",
       "      <th>9</th>\n",
       "      <td>9</td>\n",
       "      <td>2016_HS1102000003</td>\n",
       "      <td>2016_HH11110023</td>\n",
       "      <td>1</td>\n",
       "      <td>1</td>\n",
       "      <td>1</td>\n",
       "      <td>1</td>\n",
       "      <td>5</td>\n",
       "      <td>1</td>\n",
       "      <td>2</td>\n",
       "      <td>...</td>\n",
       "      <td>2</td>\n",
       "      <td>5</td>\n",
       "      <td>1</td>\n",
       "      <td>3</td>\n",
       "      <td>4</td>\n",
       "      <td>3</td>\n",
       "      <td>5</td>\n",
       "      <td>12259.730000</td>\n",
       "      <td>67</td>\n",
       "      <td>54000000</td>\n",
       "    </tr>\n",
       "  </tbody>\n",
       "</table>\n",
       "<p>10 rows × 23 columns</p>\n",
       "</div>"
      ],
      "text/plain": [
       "   Unnamed: 0              id_hs            id_hh  cat_loc_div  cat_sz_cty  \\\n",
       "0           0  2016_HS1101000001  2016_HH13110253            1           1   \n",
       "1           1  2016_HS1101000002  2016_HH14110053            1           1   \n",
       "2           2  2016_HS1101000003  2016_HH14110054            1           1   \n",
       "3           3  2016_HS1101000004  2016_HH14110055            1           1   \n",
       "4           4  2016_HS1101000006  2016_HH14110056            1           1   \n",
       "5           5  2016_HS1101000007  2016_HH14110057            1           1   \n",
       "6           6  2016_HS1101000008  2016_HH14110058            1           1   \n",
       "7           7  2016_HS1102000001  2016_HH13110255            1           1   \n",
       "8           8  2016_HS1102000002  2016_HH13110256            1           1   \n",
       "9           9  2016_HS1102000003  2016_HH11110023            1           1   \n",
       "\n",
       "   cat_hus_typ  num_flr  num_out_wls  cat_hus_dir_fce  cat_hus_blt_yr  ...  \\\n",
       "0            3        9            4                1               5  ...   \n",
       "1            2        2            4                3               5  ...   \n",
       "2            1        1            6                1               4  ...   \n",
       "3            2        1            6                3               3  ...   \n",
       "4            1        1            6                1               6  ...   \n",
       "5            1        1            5                2               3  ...   \n",
       "6            1        2            5                1               3  ...   \n",
       "7            2        2            5                2               4  ...   \n",
       "8            3       11            4                3               4  ...   \n",
       "9            1        1            5                1               2  ...   \n",
       "\n",
       "   num_bat  num_out_wds  cat_fuel_heat  cat_cool  cat_fuel_cook  num_hus_mems  \\\n",
       "0        2           12              1         3              4             5   \n",
       "1        2           20              1         3              4             3   \n",
       "2        1           10              1         3              4             4   \n",
       "3        1           15              1         3              4             4   \n",
       "4        2            8              1         3              5             4   \n",
       "5        1           10              1         3              4             3   \n",
       "6        1            8              1         3              4             4   \n",
       "7        1           10              1         3              4             4   \n",
       "8        1           18              1         1              4             4   \n",
       "9        2            5              1         3              4             3   \n",
       "\n",
       "   cat_mhh_occu  num_tot_energy_heat  num_mhh_age  num_hh_ann_incm  \n",
       "0             1         14787.630000           45         42000000  \n",
       "1             3         15669.590000           55         66000000  \n",
       "2             1         10811.384375           55         12000000  \n",
       "3             1          9699.294732           45         25000000  \n",
       "4             1         16089.620000           55         66000000  \n",
       "5             1         11562.120322           55         54000000  \n",
       "6             3         14162.990000           55         54000000  \n",
       "7             3         15608.880000           55         42000000  \n",
       "8             1         12356.080000           35         78000000  \n",
       "9             5         12259.730000           67         54000000  \n",
       "\n",
       "[10 rows x 23 columns]"
      ]
     },
     "execution_count": 4,
     "metadata": {},
     "output_type": "execute_result"
    }
   ],
   "source": [
    "df_raw = pd.read_csv(str_path_data)\n",
    "df_raw.head(10)"
   ]
  },
  {
   "cell_type": "code",
   "execution_count": 5,
   "metadata": {},
   "outputs": [
    {
     "data": {
      "text/plain": [
       "Index(['Unnamed: 0', 'id_hs', 'id_hh', 'cat_loc_div', 'cat_sz_cty',\n",
       "       'cat_hus_typ', 'num_flr', 'num_out_wls', 'cat_hus_dir_fce',\n",
       "       'cat_hus_blt_yr', 'num_hus_ar', 'num_bed', 'num_liv', 'num_bat',\n",
       "       'num_out_wds', 'cat_fuel_heat', 'cat_cool', 'cat_fuel_cook',\n",
       "       'num_hus_mems', 'cat_mhh_occu', 'num_tot_energy_heat', 'num_mhh_age',\n",
       "       'num_hh_ann_incm'],\n",
       "      dtype='object')"
      ]
     },
     "execution_count": 5,
     "metadata": {},
     "output_type": "execute_result"
    }
   ],
   "source": [
    "df_raw.columns"
   ]
  },
  {
   "cell_type": "code",
   "execution_count": 6,
   "metadata": {},
   "outputs": [],
   "source": [
    "df_raw.drop(columns=[\"Unnamed: 0\"], inplace= True)"
   ]
  },
  {
   "cell_type": "code",
   "execution_count": 15,
   "metadata": {},
   "outputs": [],
   "source": [
    "lst_var_labels = list(df_raw.columns)\n",
    "lst_var_labels.pop(lst_var_labels.index(\"id_hh\"))\n",
    "lst_var_labels.pop(lst_var_labels.index(\"id_hs\"))\n",
    "\n",
    "# Column name lists for numerical and categorical variables.\n",
    "lst_labels_num = [l for l in lst_var_labels if l.split(\"_\")[0] == \"num\"]\n",
    "lst_labels_cat = [l for l in lst_var_labels if l.split(\"_\")[0] == \"cat\"]"
   ]
  },
  {
   "cell_type": "code",
   "execution_count": null,
   "metadata": {},
   "outputs": [],
   "source": [
    "# lst_var_num.pop(lst_var_num.index(\"num_hus_blt_yr\"))\n",
    "\n",
    "fig_tmp = px.scatter_matrix(df_raw[lst_labels_num])\n",
    "\n",
    "fig_tmp.update_traces(\n",
    "    marker_size= 3,\n",
    "    diagonal_visible= False,\n",
    ")\n",
    "\n",
    "fig_tmp.update_layout(\n",
    "    font_size= 8,\n",
    "    width= 1000,\n",
    "    height= 1000,\n",
    ")\n",
    "\n",
    "fig_tmp.show()"
   ]
  },
  {
   "cell_type": "code",
   "execution_count": 19,
   "metadata": {},
   "outputs": [
    {
     "name": "stdout",
     "output_type": "stream",
     "text": [
      "['num_flr', 'num_out_wls', 'num_hus_ar', 'num_bed', 'num_liv', 'num_bat', 'num_out_wds', 'num_hus_mems', 'num_mhh_age', 'num_hh_ann_incm', 'cat_hus_blt_yr']\n"
     ]
    }
   ],
   "source": [
    "lst_labels_num_add = lst_labels_num.copy()\n",
    "lst_labels_num_add.append(\"cat_hus_blt_yr\")\n",
    "lst_labels_num_add.pop(lst_labels_num_add.index(\"num_tot_energy_heat\"))\n",
    "print(lst_labels_num_add)"
   ]
  },
  {
   "cell_type": "code",
   "execution_count": 20,
   "metadata": {},
   "outputs": [],
   "source": [
    "df_num_corr_raw = df_raw[lst_labels_num_add]"
   ]
  },
  {
   "cell_type": "code",
   "execution_count": 21,
   "metadata": {},
   "outputs": [
    {
     "data": {
      "text/html": [
       "<div>\n",
       "<style scoped>\n",
       "    .dataframe tbody tr th:only-of-type {\n",
       "        vertical-align: middle;\n",
       "    }\n",
       "\n",
       "    .dataframe tbody tr th {\n",
       "        vertical-align: top;\n",
       "    }\n",
       "\n",
       "    .dataframe thead th {\n",
       "        text-align: right;\n",
       "    }\n",
       "</style>\n",
       "<table border=\"1\" class=\"dataframe\">\n",
       "  <thead>\n",
       "    <tr style=\"text-align: right;\">\n",
       "      <th></th>\n",
       "      <th>num_flr</th>\n",
       "      <th>num_out_wls</th>\n",
       "      <th>num_hus_ar</th>\n",
       "      <th>num_bed</th>\n",
       "      <th>num_liv</th>\n",
       "      <th>num_bat</th>\n",
       "      <th>num_out_wds</th>\n",
       "      <th>num_hus_mems</th>\n",
       "      <th>num_mhh_age</th>\n",
       "      <th>num_hh_ann_incm</th>\n",
       "      <th>cat_hus_blt_yr</th>\n",
       "    </tr>\n",
       "  </thead>\n",
       "  <tbody>\n",
       "    <tr>\n",
       "      <th>num_flr</th>\n",
       "      <td>1.000000</td>\n",
       "      <td>-0.404035</td>\n",
       "      <td>0.213576</td>\n",
       "      <td>0.148341</td>\n",
       "      <td>0.078893</td>\n",
       "      <td>0.288741</td>\n",
       "      <td>0.133830</td>\n",
       "      <td>0.181498</td>\n",
       "      <td>-0.171574</td>\n",
       "      <td>0.309492</td>\n",
       "      <td>0.349407</td>\n",
       "    </tr>\n",
       "    <tr>\n",
       "      <th>num_out_wls</th>\n",
       "      <td>-0.404035</td>\n",
       "      <td>1.000000</td>\n",
       "      <td>-0.124058</td>\n",
       "      <td>-0.079733</td>\n",
       "      <td>-0.065138</td>\n",
       "      <td>-0.205242</td>\n",
       "      <td>-0.147336</td>\n",
       "      <td>-0.222082</td>\n",
       "      <td>0.239063</td>\n",
       "      <td>-0.306879</td>\n",
       "      <td>-0.363487</td>\n",
       "    </tr>\n",
       "    <tr>\n",
       "      <th>num_hus_ar</th>\n",
       "      <td>0.213576</td>\n",
       "      <td>-0.124058</td>\n",
       "      <td>1.000000</td>\n",
       "      <td>0.684552</td>\n",
       "      <td>0.250581</td>\n",
       "      <td>0.568643</td>\n",
       "      <td>0.378646</td>\n",
       "      <td>0.272562</td>\n",
       "      <td>-0.054340</td>\n",
       "      <td>0.379883</td>\n",
       "      <td>0.275568</td>\n",
       "    </tr>\n",
       "    <tr>\n",
       "      <th>num_bed</th>\n",
       "      <td>0.148341</td>\n",
       "      <td>-0.079733</td>\n",
       "      <td>0.684552</td>\n",
       "      <td>1.000000</td>\n",
       "      <td>0.245745</td>\n",
       "      <td>0.471579</td>\n",
       "      <td>0.329431</td>\n",
       "      <td>0.266956</td>\n",
       "      <td>-0.030689</td>\n",
       "      <td>0.295237</td>\n",
       "      <td>0.185920</td>\n",
       "    </tr>\n",
       "    <tr>\n",
       "      <th>num_liv</th>\n",
       "      <td>0.078893</td>\n",
       "      <td>-0.065138</td>\n",
       "      <td>0.250581</td>\n",
       "      <td>0.245745</td>\n",
       "      <td>1.000000</td>\n",
       "      <td>0.150105</td>\n",
       "      <td>0.112107</td>\n",
       "      <td>0.162437</td>\n",
       "      <td>-0.067017</td>\n",
       "      <td>0.157265</td>\n",
       "      <td>0.149335</td>\n",
       "    </tr>\n",
       "    <tr>\n",
       "      <th>num_bat</th>\n",
       "      <td>0.288741</td>\n",
       "      <td>-0.205242</td>\n",
       "      <td>0.568643</td>\n",
       "      <td>0.471579</td>\n",
       "      <td>0.150105</td>\n",
       "      <td>1.000000</td>\n",
       "      <td>0.277026</td>\n",
       "      <td>0.233642</td>\n",
       "      <td>-0.100906</td>\n",
       "      <td>0.311936</td>\n",
       "      <td>0.333978</td>\n",
       "    </tr>\n",
       "    <tr>\n",
       "      <th>num_out_wds</th>\n",
       "      <td>0.133830</td>\n",
       "      <td>-0.147336</td>\n",
       "      <td>0.378646</td>\n",
       "      <td>0.329431</td>\n",
       "      <td>0.112107</td>\n",
       "      <td>0.277026</td>\n",
       "      <td>1.000000</td>\n",
       "      <td>0.126016</td>\n",
       "      <td>-0.024256</td>\n",
       "      <td>0.253214</td>\n",
       "      <td>0.197935</td>\n",
       "    </tr>\n",
       "    <tr>\n",
       "      <th>num_hus_mems</th>\n",
       "      <td>0.181498</td>\n",
       "      <td>-0.222082</td>\n",
       "      <td>0.272562</td>\n",
       "      <td>0.266956</td>\n",
       "      <td>0.162437</td>\n",
       "      <td>0.233642</td>\n",
       "      <td>0.126016</td>\n",
       "      <td>1.000000</td>\n",
       "      <td>-0.398713</td>\n",
       "      <td>0.505384</td>\n",
       "      <td>0.224351</td>\n",
       "    </tr>\n",
       "    <tr>\n",
       "      <th>num_mhh_age</th>\n",
       "      <td>-0.171574</td>\n",
       "      <td>0.239063</td>\n",
       "      <td>-0.054340</td>\n",
       "      <td>-0.030689</td>\n",
       "      <td>-0.067017</td>\n",
       "      <td>-0.100906</td>\n",
       "      <td>-0.024256</td>\n",
       "      <td>-0.398713</td>\n",
       "      <td>1.000000</td>\n",
       "      <td>-0.311393</td>\n",
       "      <td>-0.255733</td>\n",
       "    </tr>\n",
       "    <tr>\n",
       "      <th>num_hh_ann_incm</th>\n",
       "      <td>0.309492</td>\n",
       "      <td>-0.306879</td>\n",
       "      <td>0.379883</td>\n",
       "      <td>0.295237</td>\n",
       "      <td>0.157265</td>\n",
       "      <td>0.311936</td>\n",
       "      <td>0.253214</td>\n",
       "      <td>0.505384</td>\n",
       "      <td>-0.311393</td>\n",
       "      <td>1.000000</td>\n",
       "      <td>0.327935</td>\n",
       "    </tr>\n",
       "    <tr>\n",
       "      <th>cat_hus_blt_yr</th>\n",
       "      <td>0.349407</td>\n",
       "      <td>-0.363487</td>\n",
       "      <td>0.275568</td>\n",
       "      <td>0.185920</td>\n",
       "      <td>0.149335</td>\n",
       "      <td>0.333978</td>\n",
       "      <td>0.197935</td>\n",
       "      <td>0.224351</td>\n",
       "      <td>-0.255733</td>\n",
       "      <td>0.327935</td>\n",
       "      <td>1.000000</td>\n",
       "    </tr>\n",
       "  </tbody>\n",
       "</table>\n",
       "</div>"
      ],
      "text/plain": [
       "                  num_flr  num_out_wls  num_hus_ar   num_bed   num_liv  \\\n",
       "num_flr          1.000000    -0.404035    0.213576  0.148341  0.078893   \n",
       "num_out_wls     -0.404035     1.000000   -0.124058 -0.079733 -0.065138   \n",
       "num_hus_ar       0.213576    -0.124058    1.000000  0.684552  0.250581   \n",
       "num_bed          0.148341    -0.079733    0.684552  1.000000  0.245745   \n",
       "num_liv          0.078893    -0.065138    0.250581  0.245745  1.000000   \n",
       "num_bat          0.288741    -0.205242    0.568643  0.471579  0.150105   \n",
       "num_out_wds      0.133830    -0.147336    0.378646  0.329431  0.112107   \n",
       "num_hus_mems     0.181498    -0.222082    0.272562  0.266956  0.162437   \n",
       "num_mhh_age     -0.171574     0.239063   -0.054340 -0.030689 -0.067017   \n",
       "num_hh_ann_incm  0.309492    -0.306879    0.379883  0.295237  0.157265   \n",
       "cat_hus_blt_yr   0.349407    -0.363487    0.275568  0.185920  0.149335   \n",
       "\n",
       "                  num_bat  num_out_wds  num_hus_mems  num_mhh_age  \\\n",
       "num_flr          0.288741     0.133830      0.181498    -0.171574   \n",
       "num_out_wls     -0.205242    -0.147336     -0.222082     0.239063   \n",
       "num_hus_ar       0.568643     0.378646      0.272562    -0.054340   \n",
       "num_bed          0.471579     0.329431      0.266956    -0.030689   \n",
       "num_liv          0.150105     0.112107      0.162437    -0.067017   \n",
       "num_bat          1.000000     0.277026      0.233642    -0.100906   \n",
       "num_out_wds      0.277026     1.000000      0.126016    -0.024256   \n",
       "num_hus_mems     0.233642     0.126016      1.000000    -0.398713   \n",
       "num_mhh_age     -0.100906    -0.024256     -0.398713     1.000000   \n",
       "num_hh_ann_incm  0.311936     0.253214      0.505384    -0.311393   \n",
       "cat_hus_blt_yr   0.333978     0.197935      0.224351    -0.255733   \n",
       "\n",
       "                 num_hh_ann_incm  cat_hus_blt_yr  \n",
       "num_flr                 0.309492        0.349407  \n",
       "num_out_wls            -0.306879       -0.363487  \n",
       "num_hus_ar              0.379883        0.275568  \n",
       "num_bed                 0.295237        0.185920  \n",
       "num_liv                 0.157265        0.149335  \n",
       "num_bat                 0.311936        0.333978  \n",
       "num_out_wds             0.253214        0.197935  \n",
       "num_hus_mems            0.505384        0.224351  \n",
       "num_mhh_age            -0.311393       -0.255733  \n",
       "num_hh_ann_incm         1.000000        0.327935  \n",
       "cat_hus_blt_yr          0.327935        1.000000  "
      ]
     },
     "execution_count": 21,
     "metadata": {},
     "output_type": "execute_result"
    }
   ],
   "source": [
    "df_num_corr = df_num_corr_raw.corr()\n",
    "df_num_corr"
   ]
  },
  {
   "cell_type": "code",
   "execution_count": 22,
   "metadata": {},
   "outputs": [],
   "source": [
    "import plotly.figure_factory as ff"
   ]
  },
  {
   "cell_type": "code",
   "execution_count": 24,
   "metadata": {},
   "outputs": [
    {
     "data": {
      "application/vnd.plotly.v1+json": {
       "config": {
        "plotlyServerURL": "https://plot.ly"
       },
       "data": [
        {
         "colorscale": [
          [
           0,
           "#0d0887"
          ],
          [
           0.1111111111111111,
           "#46039f"
          ],
          [
           0.2222222222222222,
           "#7201a8"
          ],
          [
           0.3333333333333333,
           "#9c179e"
          ],
          [
           0.4444444444444444,
           "#bd3786"
          ],
          [
           0.5555555555555556,
           "#d8576b"
          ],
          [
           0.6666666666666666,
           "#ed7953"
          ],
          [
           0.7777777777777778,
           "#fb9f3a"
          ],
          [
           0.8888888888888888,
           "#fdca26"
          ],
          [
           1,
           "#f0f921"
          ]
         ],
         "reversescale": false,
         "showscale": false,
         "type": "heatmap",
         "x": [
          "num_flr",
          "num_out_wls",
          "num_hus_ar",
          "num_bed",
          "num_liv",
          "num_bat",
          "num_out_wds",
          "num_hus_mems",
          "num_mhh_age",
          "num_hh_ann_incm",
          "cat_hus_blt_yr"
         ],
         "y": [
          "num_flr",
          "num_out_wls",
          "num_hus_ar",
          "num_bed",
          "num_liv",
          "num_bat",
          "num_out_wds",
          "num_hus_mems",
          "num_mhh_age",
          "num_hh_ann_incm",
          "cat_hus_blt_yr"
         ],
         "z": [
          [
           1,
           -0.4040349166673081,
           0.21357583573073127,
           0.14834116495007246,
           0.07889310899045297,
           0.2887412392721278,
           0.133830225689693,
           0.1814976033516274,
           -0.1715736643303436,
           0.3094918807115158,
           0.3494068370289077
          ],
          [
           -0.4040349166673081,
           1,
           -0.12405837760997891,
           -0.07973312854703926,
           -0.06513766930085063,
           -0.20524201278094892,
           -0.14733591184992062,
           -0.22208211731560137,
           0.23906302198733753,
           -0.30687864284659966,
           -0.36348728341621445
          ],
          [
           0.21357583573073127,
           -0.12405837760997891,
           1,
           0.6845518000861354,
           0.25058119296581094,
           0.5686426794729667,
           0.3786459643941965,
           0.2725618999135517,
           -0.054339743820626105,
           0.37988288728408787,
           0.2755684471047034
          ],
          [
           0.14834116495007246,
           -0.07973312854703926,
           0.6845518000861354,
           1,
           0.24574491555546876,
           0.47157884002819,
           0.329431042183971,
           0.26695642598645997,
           -0.030689376244310198,
           0.29523736029816877,
           0.1859201781638682
          ],
          [
           0.07889310899045297,
           -0.06513766930085063,
           0.25058119296581094,
           0.24574491555546876,
           1,
           0.1501048619663165,
           0.1121070756610655,
           0.1624369045720026,
           -0.06701674286817276,
           0.15726525518557022,
           0.14933530383005814
          ],
          [
           0.2887412392721278,
           -0.20524201278094892,
           0.5686426794729667,
           0.47157884002819,
           0.1501048619663165,
           1,
           0.2770258707971205,
           0.23364224447965304,
           -0.10090580742885906,
           0.31193634037053014,
           0.3339775241729742
          ],
          [
           0.133830225689693,
           -0.14733591184992062,
           0.3786459643941965,
           0.329431042183971,
           0.1121070756610655,
           0.2770258707971205,
           1,
           0.1260162714675085,
           -0.024255512626280666,
           0.2532142327011972,
           0.19793480888261922
          ],
          [
           0.1814976033516274,
           -0.22208211731560137,
           0.2725618999135517,
           0.26695642598645997,
           0.1624369045720026,
           0.23364224447965304,
           0.1260162714675085,
           1,
           -0.39871311973001955,
           0.5053840520306226,
           0.22435101402030955
          ],
          [
           -0.1715736643303436,
           0.23906302198733753,
           -0.054339743820626105,
           -0.030689376244310198,
           -0.06701674286817276,
           -0.10090580742885906,
           -0.024255512626280666,
           -0.39871311973001955,
           1,
           -0.31139282546938923,
           -0.25573336490585163
          ],
          [
           0.3094918807115158,
           -0.30687864284659966,
           0.37988288728408787,
           0.29523736029816877,
           0.15726525518557022,
           0.31193634037053014,
           0.2532142327011972,
           0.5053840520306226,
           -0.31139282546938923,
           1,
           0.32793475476185824
          ],
          [
           0.3494068370289077,
           -0.36348728341621445,
           0.2755684471047034,
           0.1859201781638682,
           0.14933530383005814,
           0.3339775241729742,
           0.19793480888261922,
           0.22435101402030955,
           -0.25573336490585163,
           0.32793475476185824,
           1
          ]
         ]
        }
       ],
       "layout": {
        "annotations": [
         {
          "font": {
           "color": "#000000"
          },
          "showarrow": false,
          "text": "1.0",
          "x": "num_flr",
          "xref": "x",
          "y": "num_flr",
          "yref": "y"
         },
         {
          "font": {
           "color": "#FFFFFF"
          },
          "showarrow": false,
          "text": "-0.4040349166673081",
          "x": "num_out_wls",
          "xref": "x",
          "y": "num_flr",
          "yref": "y"
         },
         {
          "font": {
           "color": "#FFFFFF"
          },
          "showarrow": false,
          "text": "0.21357583573073127",
          "x": "num_hus_ar",
          "xref": "x",
          "y": "num_flr",
          "yref": "y"
         },
         {
          "font": {
           "color": "#FFFFFF"
          },
          "showarrow": false,
          "text": "0.14834116495007246",
          "x": "num_bed",
          "xref": "x",
          "y": "num_flr",
          "yref": "y"
         },
         {
          "font": {
           "color": "#FFFFFF"
          },
          "showarrow": false,
          "text": "0.07889310899045297",
          "x": "num_liv",
          "xref": "x",
          "y": "num_flr",
          "yref": "y"
         },
         {
          "font": {
           "color": "#FFFFFF"
          },
          "showarrow": false,
          "text": "0.2887412392721278",
          "x": "num_bat",
          "xref": "x",
          "y": "num_flr",
          "yref": "y"
         },
         {
          "font": {
           "color": "#FFFFFF"
          },
          "showarrow": false,
          "text": "0.133830225689693",
          "x": "num_out_wds",
          "xref": "x",
          "y": "num_flr",
          "yref": "y"
         },
         {
          "font": {
           "color": "#FFFFFF"
          },
          "showarrow": false,
          "text": "0.1814976033516274",
          "x": "num_hus_mems",
          "xref": "x",
          "y": "num_flr",
          "yref": "y"
         },
         {
          "font": {
           "color": "#FFFFFF"
          },
          "showarrow": false,
          "text": "-0.1715736643303436",
          "x": "num_mhh_age",
          "xref": "x",
          "y": "num_flr",
          "yref": "y"
         },
         {
          "font": {
           "color": "#000000"
          },
          "showarrow": false,
          "text": "0.3094918807115158",
          "x": "num_hh_ann_incm",
          "xref": "x",
          "y": "num_flr",
          "yref": "y"
         },
         {
          "font": {
           "color": "#000000"
          },
          "showarrow": false,
          "text": "0.3494068370289077",
          "x": "cat_hus_blt_yr",
          "xref": "x",
          "y": "num_flr",
          "yref": "y"
         },
         {
          "font": {
           "color": "#FFFFFF"
          },
          "showarrow": false,
          "text": "-0.4040349166673081",
          "x": "num_flr",
          "xref": "x",
          "y": "num_out_wls",
          "yref": "y"
         },
         {
          "font": {
           "color": "#000000"
          },
          "showarrow": false,
          "text": "1.0",
          "x": "num_out_wls",
          "xref": "x",
          "y": "num_out_wls",
          "yref": "y"
         },
         {
          "font": {
           "color": "#FFFFFF"
          },
          "showarrow": false,
          "text": "-0.12405837760997891",
          "x": "num_hus_ar",
          "xref": "x",
          "y": "num_out_wls",
          "yref": "y"
         },
         {
          "font": {
           "color": "#FFFFFF"
          },
          "showarrow": false,
          "text": "-0.07973312854703926",
          "x": "num_bed",
          "xref": "x",
          "y": "num_out_wls",
          "yref": "y"
         },
         {
          "font": {
           "color": "#FFFFFF"
          },
          "showarrow": false,
          "text": "-0.06513766930085063",
          "x": "num_liv",
          "xref": "x",
          "y": "num_out_wls",
          "yref": "y"
         },
         {
          "font": {
           "color": "#FFFFFF"
          },
          "showarrow": false,
          "text": "-0.20524201278094892",
          "x": "num_bat",
          "xref": "x",
          "y": "num_out_wls",
          "yref": "y"
         },
         {
          "font": {
           "color": "#FFFFFF"
          },
          "showarrow": false,
          "text": "-0.14733591184992062",
          "x": "num_out_wds",
          "xref": "x",
          "y": "num_out_wls",
          "yref": "y"
         },
         {
          "font": {
           "color": "#FFFFFF"
          },
          "showarrow": false,
          "text": "-0.22208211731560137",
          "x": "num_hus_mems",
          "xref": "x",
          "y": "num_out_wls",
          "yref": "y"
         },
         {
          "font": {
           "color": "#FFFFFF"
          },
          "showarrow": false,
          "text": "0.23906302198733753",
          "x": "num_mhh_age",
          "xref": "x",
          "y": "num_out_wls",
          "yref": "y"
         },
         {
          "font": {
           "color": "#FFFFFF"
          },
          "showarrow": false,
          "text": "-0.30687864284659966",
          "x": "num_hh_ann_incm",
          "xref": "x",
          "y": "num_out_wls",
          "yref": "y"
         },
         {
          "font": {
           "color": "#FFFFFF"
          },
          "showarrow": false,
          "text": "-0.36348728341621445",
          "x": "cat_hus_blt_yr",
          "xref": "x",
          "y": "num_out_wls",
          "yref": "y"
         },
         {
          "font": {
           "color": "#FFFFFF"
          },
          "showarrow": false,
          "text": "0.21357583573073127",
          "x": "num_flr",
          "xref": "x",
          "y": "num_hus_ar",
          "yref": "y"
         },
         {
          "font": {
           "color": "#FFFFFF"
          },
          "showarrow": false,
          "text": "-0.12405837760997891",
          "x": "num_out_wls",
          "xref": "x",
          "y": "num_hus_ar",
          "yref": "y"
         },
         {
          "font": {
           "color": "#000000"
          },
          "showarrow": false,
          "text": "1.0",
          "x": "num_hus_ar",
          "xref": "x",
          "y": "num_hus_ar",
          "yref": "y"
         },
         {
          "font": {
           "color": "#000000"
          },
          "showarrow": false,
          "text": "0.6845518000861354",
          "x": "num_bed",
          "xref": "x",
          "y": "num_hus_ar",
          "yref": "y"
         },
         {
          "font": {
           "color": "#FFFFFF"
          },
          "showarrow": false,
          "text": "0.25058119296581094",
          "x": "num_liv",
          "xref": "x",
          "y": "num_hus_ar",
          "yref": "y"
         },
         {
          "font": {
           "color": "#000000"
          },
          "showarrow": false,
          "text": "0.5686426794729667",
          "x": "num_bat",
          "xref": "x",
          "y": "num_hus_ar",
          "yref": "y"
         },
         {
          "font": {
           "color": "#000000"
          },
          "showarrow": false,
          "text": "0.3786459643941965",
          "x": "num_out_wds",
          "xref": "x",
          "y": "num_hus_ar",
          "yref": "y"
         },
         {
          "font": {
           "color": "#FFFFFF"
          },
          "showarrow": false,
          "text": "0.2725618999135517",
          "x": "num_hus_mems",
          "xref": "x",
          "y": "num_hus_ar",
          "yref": "y"
         },
         {
          "font": {
           "color": "#FFFFFF"
          },
          "showarrow": false,
          "text": "-0.054339743820626105",
          "x": "num_mhh_age",
          "xref": "x",
          "y": "num_hus_ar",
          "yref": "y"
         },
         {
          "font": {
           "color": "#000000"
          },
          "showarrow": false,
          "text": "0.37988288728408787",
          "x": "num_hh_ann_incm",
          "xref": "x",
          "y": "num_hus_ar",
          "yref": "y"
         },
         {
          "font": {
           "color": "#FFFFFF"
          },
          "showarrow": false,
          "text": "0.2755684471047034",
          "x": "cat_hus_blt_yr",
          "xref": "x",
          "y": "num_hus_ar",
          "yref": "y"
         },
         {
          "font": {
           "color": "#FFFFFF"
          },
          "showarrow": false,
          "text": "0.14834116495007246",
          "x": "num_flr",
          "xref": "x",
          "y": "num_bed",
          "yref": "y"
         },
         {
          "font": {
           "color": "#FFFFFF"
          },
          "showarrow": false,
          "text": "-0.07973312854703926",
          "x": "num_out_wls",
          "xref": "x",
          "y": "num_bed",
          "yref": "y"
         },
         {
          "font": {
           "color": "#000000"
          },
          "showarrow": false,
          "text": "0.6845518000861354",
          "x": "num_hus_ar",
          "xref": "x",
          "y": "num_bed",
          "yref": "y"
         },
         {
          "font": {
           "color": "#000000"
          },
          "showarrow": false,
          "text": "1.0",
          "x": "num_bed",
          "xref": "x",
          "y": "num_bed",
          "yref": "y"
         },
         {
          "font": {
           "color": "#FFFFFF"
          },
          "showarrow": false,
          "text": "0.24574491555546876",
          "x": "num_liv",
          "xref": "x",
          "y": "num_bed",
          "yref": "y"
         },
         {
          "font": {
           "color": "#000000"
          },
          "showarrow": false,
          "text": "0.47157884002819",
          "x": "num_bat",
          "xref": "x",
          "y": "num_bed",
          "yref": "y"
         },
         {
          "font": {
           "color": "#000000"
          },
          "showarrow": false,
          "text": "0.329431042183971",
          "x": "num_out_wds",
          "xref": "x",
          "y": "num_bed",
          "yref": "y"
         },
         {
          "font": {
           "color": "#FFFFFF"
          },
          "showarrow": false,
          "text": "0.26695642598645997",
          "x": "num_hus_mems",
          "xref": "x",
          "y": "num_bed",
          "yref": "y"
         },
         {
          "font": {
           "color": "#FFFFFF"
          },
          "showarrow": false,
          "text": "-0.030689376244310198",
          "x": "num_mhh_age",
          "xref": "x",
          "y": "num_bed",
          "yref": "y"
         },
         {
          "font": {
           "color": "#FFFFFF"
          },
          "showarrow": false,
          "text": "0.29523736029816877",
          "x": "num_hh_ann_incm",
          "xref": "x",
          "y": "num_bed",
          "yref": "y"
         },
         {
          "font": {
           "color": "#FFFFFF"
          },
          "showarrow": false,
          "text": "0.1859201781638682",
          "x": "cat_hus_blt_yr",
          "xref": "x",
          "y": "num_bed",
          "yref": "y"
         },
         {
          "font": {
           "color": "#FFFFFF"
          },
          "showarrow": false,
          "text": "0.07889310899045297",
          "x": "num_flr",
          "xref": "x",
          "y": "num_liv",
          "yref": "y"
         },
         {
          "font": {
           "color": "#FFFFFF"
          },
          "showarrow": false,
          "text": "-0.06513766930085063",
          "x": "num_out_wls",
          "xref": "x",
          "y": "num_liv",
          "yref": "y"
         },
         {
          "font": {
           "color": "#FFFFFF"
          },
          "showarrow": false,
          "text": "0.25058119296581094",
          "x": "num_hus_ar",
          "xref": "x",
          "y": "num_liv",
          "yref": "y"
         },
         {
          "font": {
           "color": "#FFFFFF"
          },
          "showarrow": false,
          "text": "0.24574491555546876",
          "x": "num_bed",
          "xref": "x",
          "y": "num_liv",
          "yref": "y"
         },
         {
          "font": {
           "color": "#000000"
          },
          "showarrow": false,
          "text": "1.0",
          "x": "num_liv",
          "xref": "x",
          "y": "num_liv",
          "yref": "y"
         },
         {
          "font": {
           "color": "#FFFFFF"
          },
          "showarrow": false,
          "text": "0.1501048619663165",
          "x": "num_bat",
          "xref": "x",
          "y": "num_liv",
          "yref": "y"
         },
         {
          "font": {
           "color": "#FFFFFF"
          },
          "showarrow": false,
          "text": "0.1121070756610655",
          "x": "num_out_wds",
          "xref": "x",
          "y": "num_liv",
          "yref": "y"
         },
         {
          "font": {
           "color": "#FFFFFF"
          },
          "showarrow": false,
          "text": "0.1624369045720026",
          "x": "num_hus_mems",
          "xref": "x",
          "y": "num_liv",
          "yref": "y"
         },
         {
          "font": {
           "color": "#FFFFFF"
          },
          "showarrow": false,
          "text": "-0.06701674286817276",
          "x": "num_mhh_age",
          "xref": "x",
          "y": "num_liv",
          "yref": "y"
         },
         {
          "font": {
           "color": "#FFFFFF"
          },
          "showarrow": false,
          "text": "0.15726525518557022",
          "x": "num_hh_ann_incm",
          "xref": "x",
          "y": "num_liv",
          "yref": "y"
         },
         {
          "font": {
           "color": "#FFFFFF"
          },
          "showarrow": false,
          "text": "0.14933530383005814",
          "x": "cat_hus_blt_yr",
          "xref": "x",
          "y": "num_liv",
          "yref": "y"
         },
         {
          "font": {
           "color": "#FFFFFF"
          },
          "showarrow": false,
          "text": "0.2887412392721278",
          "x": "num_flr",
          "xref": "x",
          "y": "num_bat",
          "yref": "y"
         },
         {
          "font": {
           "color": "#FFFFFF"
          },
          "showarrow": false,
          "text": "-0.20524201278094892",
          "x": "num_out_wls",
          "xref": "x",
          "y": "num_bat",
          "yref": "y"
         },
         {
          "font": {
           "color": "#000000"
          },
          "showarrow": false,
          "text": "0.5686426794729667",
          "x": "num_hus_ar",
          "xref": "x",
          "y": "num_bat",
          "yref": "y"
         },
         {
          "font": {
           "color": "#000000"
          },
          "showarrow": false,
          "text": "0.47157884002819",
          "x": "num_bed",
          "xref": "x",
          "y": "num_bat",
          "yref": "y"
         },
         {
          "font": {
           "color": "#FFFFFF"
          },
          "showarrow": false,
          "text": "0.1501048619663165",
          "x": "num_liv",
          "xref": "x",
          "y": "num_bat",
          "yref": "y"
         },
         {
          "font": {
           "color": "#000000"
          },
          "showarrow": false,
          "text": "1.0",
          "x": "num_bat",
          "xref": "x",
          "y": "num_bat",
          "yref": "y"
         },
         {
          "font": {
           "color": "#FFFFFF"
          },
          "showarrow": false,
          "text": "0.2770258707971205",
          "x": "num_out_wds",
          "xref": "x",
          "y": "num_bat",
          "yref": "y"
         },
         {
          "font": {
           "color": "#FFFFFF"
          },
          "showarrow": false,
          "text": "0.23364224447965304",
          "x": "num_hus_mems",
          "xref": "x",
          "y": "num_bat",
          "yref": "y"
         },
         {
          "font": {
           "color": "#FFFFFF"
          },
          "showarrow": false,
          "text": "-0.10090580742885906",
          "x": "num_mhh_age",
          "xref": "x",
          "y": "num_bat",
          "yref": "y"
         },
         {
          "font": {
           "color": "#000000"
          },
          "showarrow": false,
          "text": "0.31193634037053014",
          "x": "num_hh_ann_incm",
          "xref": "x",
          "y": "num_bat",
          "yref": "y"
         },
         {
          "font": {
           "color": "#000000"
          },
          "showarrow": false,
          "text": "0.3339775241729742",
          "x": "cat_hus_blt_yr",
          "xref": "x",
          "y": "num_bat",
          "yref": "y"
         },
         {
          "font": {
           "color": "#FFFFFF"
          },
          "showarrow": false,
          "text": "0.133830225689693",
          "x": "num_flr",
          "xref": "x",
          "y": "num_out_wds",
          "yref": "y"
         },
         {
          "font": {
           "color": "#FFFFFF"
          },
          "showarrow": false,
          "text": "-0.14733591184992062",
          "x": "num_out_wls",
          "xref": "x",
          "y": "num_out_wds",
          "yref": "y"
         },
         {
          "font": {
           "color": "#000000"
          },
          "showarrow": false,
          "text": "0.3786459643941965",
          "x": "num_hus_ar",
          "xref": "x",
          "y": "num_out_wds",
          "yref": "y"
         },
         {
          "font": {
           "color": "#000000"
          },
          "showarrow": false,
          "text": "0.329431042183971",
          "x": "num_bed",
          "xref": "x",
          "y": "num_out_wds",
          "yref": "y"
         },
         {
          "font": {
           "color": "#FFFFFF"
          },
          "showarrow": false,
          "text": "0.1121070756610655",
          "x": "num_liv",
          "xref": "x",
          "y": "num_out_wds",
          "yref": "y"
         },
         {
          "font": {
           "color": "#FFFFFF"
          },
          "showarrow": false,
          "text": "0.2770258707971205",
          "x": "num_bat",
          "xref": "x",
          "y": "num_out_wds",
          "yref": "y"
         },
         {
          "font": {
           "color": "#000000"
          },
          "showarrow": false,
          "text": "1.0",
          "x": "num_out_wds",
          "xref": "x",
          "y": "num_out_wds",
          "yref": "y"
         },
         {
          "font": {
           "color": "#FFFFFF"
          },
          "showarrow": false,
          "text": "0.1260162714675085",
          "x": "num_hus_mems",
          "xref": "x",
          "y": "num_out_wds",
          "yref": "y"
         },
         {
          "font": {
           "color": "#FFFFFF"
          },
          "showarrow": false,
          "text": "-0.024255512626280666",
          "x": "num_mhh_age",
          "xref": "x",
          "y": "num_out_wds",
          "yref": "y"
         },
         {
          "font": {
           "color": "#FFFFFF"
          },
          "showarrow": false,
          "text": "0.2532142327011972",
          "x": "num_hh_ann_incm",
          "xref": "x",
          "y": "num_out_wds",
          "yref": "y"
         },
         {
          "font": {
           "color": "#FFFFFF"
          },
          "showarrow": false,
          "text": "0.19793480888261922",
          "x": "cat_hus_blt_yr",
          "xref": "x",
          "y": "num_out_wds",
          "yref": "y"
         },
         {
          "font": {
           "color": "#FFFFFF"
          },
          "showarrow": false,
          "text": "0.1814976033516274",
          "x": "num_flr",
          "xref": "x",
          "y": "num_hus_mems",
          "yref": "y"
         },
         {
          "font": {
           "color": "#FFFFFF"
          },
          "showarrow": false,
          "text": "-0.22208211731560137",
          "x": "num_out_wls",
          "xref": "x",
          "y": "num_hus_mems",
          "yref": "y"
         },
         {
          "font": {
           "color": "#FFFFFF"
          },
          "showarrow": false,
          "text": "0.2725618999135517",
          "x": "num_hus_ar",
          "xref": "x",
          "y": "num_hus_mems",
          "yref": "y"
         },
         {
          "font": {
           "color": "#FFFFFF"
          },
          "showarrow": false,
          "text": "0.26695642598645997",
          "x": "num_bed",
          "xref": "x",
          "y": "num_hus_mems",
          "yref": "y"
         },
         {
          "font": {
           "color": "#FFFFFF"
          },
          "showarrow": false,
          "text": "0.1624369045720026",
          "x": "num_liv",
          "xref": "x",
          "y": "num_hus_mems",
          "yref": "y"
         },
         {
          "font": {
           "color": "#FFFFFF"
          },
          "showarrow": false,
          "text": "0.23364224447965304",
          "x": "num_bat",
          "xref": "x",
          "y": "num_hus_mems",
          "yref": "y"
         },
         {
          "font": {
           "color": "#FFFFFF"
          },
          "showarrow": false,
          "text": "0.1260162714675085",
          "x": "num_out_wds",
          "xref": "x",
          "y": "num_hus_mems",
          "yref": "y"
         },
         {
          "font": {
           "color": "#000000"
          },
          "showarrow": false,
          "text": "1.0",
          "x": "num_hus_mems",
          "xref": "x",
          "y": "num_hus_mems",
          "yref": "y"
         },
         {
          "font": {
           "color": "#FFFFFF"
          },
          "showarrow": false,
          "text": "-0.39871311973001955",
          "x": "num_mhh_age",
          "xref": "x",
          "y": "num_hus_mems",
          "yref": "y"
         },
         {
          "font": {
           "color": "#000000"
          },
          "showarrow": false,
          "text": "0.5053840520306226",
          "x": "num_hh_ann_incm",
          "xref": "x",
          "y": "num_hus_mems",
          "yref": "y"
         },
         {
          "font": {
           "color": "#FFFFFF"
          },
          "showarrow": false,
          "text": "0.22435101402030955",
          "x": "cat_hus_blt_yr",
          "xref": "x",
          "y": "num_hus_mems",
          "yref": "y"
         },
         {
          "font": {
           "color": "#FFFFFF"
          },
          "showarrow": false,
          "text": "-0.1715736643303436",
          "x": "num_flr",
          "xref": "x",
          "y": "num_mhh_age",
          "yref": "y"
         },
         {
          "font": {
           "color": "#FFFFFF"
          },
          "showarrow": false,
          "text": "0.23906302198733753",
          "x": "num_out_wls",
          "xref": "x",
          "y": "num_mhh_age",
          "yref": "y"
         },
         {
          "font": {
           "color": "#FFFFFF"
          },
          "showarrow": false,
          "text": "-0.054339743820626105",
          "x": "num_hus_ar",
          "xref": "x",
          "y": "num_mhh_age",
          "yref": "y"
         },
         {
          "font": {
           "color": "#FFFFFF"
          },
          "showarrow": false,
          "text": "-0.030689376244310198",
          "x": "num_bed",
          "xref": "x",
          "y": "num_mhh_age",
          "yref": "y"
         },
         {
          "font": {
           "color": "#FFFFFF"
          },
          "showarrow": false,
          "text": "-0.06701674286817276",
          "x": "num_liv",
          "xref": "x",
          "y": "num_mhh_age",
          "yref": "y"
         },
         {
          "font": {
           "color": "#FFFFFF"
          },
          "showarrow": false,
          "text": "-0.10090580742885906",
          "x": "num_bat",
          "xref": "x",
          "y": "num_mhh_age",
          "yref": "y"
         },
         {
          "font": {
           "color": "#FFFFFF"
          },
          "showarrow": false,
          "text": "-0.024255512626280666",
          "x": "num_out_wds",
          "xref": "x",
          "y": "num_mhh_age",
          "yref": "y"
         },
         {
          "font": {
           "color": "#FFFFFF"
          },
          "showarrow": false,
          "text": "-0.39871311973001955",
          "x": "num_hus_mems",
          "xref": "x",
          "y": "num_mhh_age",
          "yref": "y"
         },
         {
          "font": {
           "color": "#000000"
          },
          "showarrow": false,
          "text": "1.0",
          "x": "num_mhh_age",
          "xref": "x",
          "y": "num_mhh_age",
          "yref": "y"
         },
         {
          "font": {
           "color": "#FFFFFF"
          },
          "showarrow": false,
          "text": "-0.31139282546938923",
          "x": "num_hh_ann_incm",
          "xref": "x",
          "y": "num_mhh_age",
          "yref": "y"
         },
         {
          "font": {
           "color": "#FFFFFF"
          },
          "showarrow": false,
          "text": "-0.25573336490585163",
          "x": "cat_hus_blt_yr",
          "xref": "x",
          "y": "num_mhh_age",
          "yref": "y"
         },
         {
          "font": {
           "color": "#000000"
          },
          "showarrow": false,
          "text": "0.3094918807115158",
          "x": "num_flr",
          "xref": "x",
          "y": "num_hh_ann_incm",
          "yref": "y"
         },
         {
          "font": {
           "color": "#FFFFFF"
          },
          "showarrow": false,
          "text": "-0.30687864284659966",
          "x": "num_out_wls",
          "xref": "x",
          "y": "num_hh_ann_incm",
          "yref": "y"
         },
         {
          "font": {
           "color": "#000000"
          },
          "showarrow": false,
          "text": "0.37988288728408787",
          "x": "num_hus_ar",
          "xref": "x",
          "y": "num_hh_ann_incm",
          "yref": "y"
         },
         {
          "font": {
           "color": "#FFFFFF"
          },
          "showarrow": false,
          "text": "0.29523736029816877",
          "x": "num_bed",
          "xref": "x",
          "y": "num_hh_ann_incm",
          "yref": "y"
         },
         {
          "font": {
           "color": "#FFFFFF"
          },
          "showarrow": false,
          "text": "0.15726525518557022",
          "x": "num_liv",
          "xref": "x",
          "y": "num_hh_ann_incm",
          "yref": "y"
         },
         {
          "font": {
           "color": "#000000"
          },
          "showarrow": false,
          "text": "0.31193634037053014",
          "x": "num_bat",
          "xref": "x",
          "y": "num_hh_ann_incm",
          "yref": "y"
         },
         {
          "font": {
           "color": "#FFFFFF"
          },
          "showarrow": false,
          "text": "0.2532142327011972",
          "x": "num_out_wds",
          "xref": "x",
          "y": "num_hh_ann_incm",
          "yref": "y"
         },
         {
          "font": {
           "color": "#000000"
          },
          "showarrow": false,
          "text": "0.5053840520306226",
          "x": "num_hus_mems",
          "xref": "x",
          "y": "num_hh_ann_incm",
          "yref": "y"
         },
         {
          "font": {
           "color": "#FFFFFF"
          },
          "showarrow": false,
          "text": "-0.31139282546938923",
          "x": "num_mhh_age",
          "xref": "x",
          "y": "num_hh_ann_incm",
          "yref": "y"
         },
         {
          "font": {
           "color": "#000000"
          },
          "showarrow": false,
          "text": "1.0",
          "x": "num_hh_ann_incm",
          "xref": "x",
          "y": "num_hh_ann_incm",
          "yref": "y"
         },
         {
          "font": {
           "color": "#000000"
          },
          "showarrow": false,
          "text": "0.32793475476185824",
          "x": "cat_hus_blt_yr",
          "xref": "x",
          "y": "num_hh_ann_incm",
          "yref": "y"
         },
         {
          "font": {
           "color": "#000000"
          },
          "showarrow": false,
          "text": "0.3494068370289077",
          "x": "num_flr",
          "xref": "x",
          "y": "cat_hus_blt_yr",
          "yref": "y"
         },
         {
          "font": {
           "color": "#FFFFFF"
          },
          "showarrow": false,
          "text": "-0.36348728341621445",
          "x": "num_out_wls",
          "xref": "x",
          "y": "cat_hus_blt_yr",
          "yref": "y"
         },
         {
          "font": {
           "color": "#FFFFFF"
          },
          "showarrow": false,
          "text": "0.2755684471047034",
          "x": "num_hus_ar",
          "xref": "x",
          "y": "cat_hus_blt_yr",
          "yref": "y"
         },
         {
          "font": {
           "color": "#FFFFFF"
          },
          "showarrow": false,
          "text": "0.1859201781638682",
          "x": "num_bed",
          "xref": "x",
          "y": "cat_hus_blt_yr",
          "yref": "y"
         },
         {
          "font": {
           "color": "#FFFFFF"
          },
          "showarrow": false,
          "text": "0.14933530383005814",
          "x": "num_liv",
          "xref": "x",
          "y": "cat_hus_blt_yr",
          "yref": "y"
         },
         {
          "font": {
           "color": "#000000"
          },
          "showarrow": false,
          "text": "0.3339775241729742",
          "x": "num_bat",
          "xref": "x",
          "y": "cat_hus_blt_yr",
          "yref": "y"
         },
         {
          "font": {
           "color": "#FFFFFF"
          },
          "showarrow": false,
          "text": "0.19793480888261922",
          "x": "num_out_wds",
          "xref": "x",
          "y": "cat_hus_blt_yr",
          "yref": "y"
         },
         {
          "font": {
           "color": "#FFFFFF"
          },
          "showarrow": false,
          "text": "0.22435101402030955",
          "x": "num_hus_mems",
          "xref": "x",
          "y": "cat_hus_blt_yr",
          "yref": "y"
         },
         {
          "font": {
           "color": "#FFFFFF"
          },
          "showarrow": false,
          "text": "-0.25573336490585163",
          "x": "num_mhh_age",
          "xref": "x",
          "y": "cat_hus_blt_yr",
          "yref": "y"
         },
         {
          "font": {
           "color": "#000000"
          },
          "showarrow": false,
          "text": "0.32793475476185824",
          "x": "num_hh_ann_incm",
          "xref": "x",
          "y": "cat_hus_blt_yr",
          "yref": "y"
         },
         {
          "font": {
           "color": "#000000"
          },
          "showarrow": false,
          "text": "1.0",
          "x": "cat_hus_blt_yr",
          "xref": "x",
          "y": "cat_hus_blt_yr",
          "yref": "y"
         }
        ],
        "template": {
         "data": {
          "bar": [
           {
            "error_x": {
             "color": "#2a3f5f"
            },
            "error_y": {
             "color": "#2a3f5f"
            },
            "marker": {
             "line": {
              "color": "#E5ECF6",
              "width": 0.5
             },
             "pattern": {
              "fillmode": "overlay",
              "size": 10,
              "solidity": 0.2
             }
            },
            "type": "bar"
           }
          ],
          "barpolar": [
           {
            "marker": {
             "line": {
              "color": "#E5ECF6",
              "width": 0.5
             },
             "pattern": {
              "fillmode": "overlay",
              "size": 10,
              "solidity": 0.2
             }
            },
            "type": "barpolar"
           }
          ],
          "carpet": [
           {
            "aaxis": {
             "endlinecolor": "#2a3f5f",
             "gridcolor": "white",
             "linecolor": "white",
             "minorgridcolor": "white",
             "startlinecolor": "#2a3f5f"
            },
            "baxis": {
             "endlinecolor": "#2a3f5f",
             "gridcolor": "white",
             "linecolor": "white",
             "minorgridcolor": "white",
             "startlinecolor": "#2a3f5f"
            },
            "type": "carpet"
           }
          ],
          "choropleth": [
           {
            "colorbar": {
             "outlinewidth": 0,
             "ticks": ""
            },
            "type": "choropleth"
           }
          ],
          "contour": [
           {
            "colorbar": {
             "outlinewidth": 0,
             "ticks": ""
            },
            "colorscale": [
             [
              0,
              "#0d0887"
             ],
             [
              0.1111111111111111,
              "#46039f"
             ],
             [
              0.2222222222222222,
              "#7201a8"
             ],
             [
              0.3333333333333333,
              "#9c179e"
             ],
             [
              0.4444444444444444,
              "#bd3786"
             ],
             [
              0.5555555555555556,
              "#d8576b"
             ],
             [
              0.6666666666666666,
              "#ed7953"
             ],
             [
              0.7777777777777778,
              "#fb9f3a"
             ],
             [
              0.8888888888888888,
              "#fdca26"
             ],
             [
              1,
              "#f0f921"
             ]
            ],
            "type": "contour"
           }
          ],
          "contourcarpet": [
           {
            "colorbar": {
             "outlinewidth": 0,
             "ticks": ""
            },
            "type": "contourcarpet"
           }
          ],
          "heatmap": [
           {
            "colorbar": {
             "outlinewidth": 0,
             "ticks": ""
            },
            "colorscale": [
             [
              0,
              "#0d0887"
             ],
             [
              0.1111111111111111,
              "#46039f"
             ],
             [
              0.2222222222222222,
              "#7201a8"
             ],
             [
              0.3333333333333333,
              "#9c179e"
             ],
             [
              0.4444444444444444,
              "#bd3786"
             ],
             [
              0.5555555555555556,
              "#d8576b"
             ],
             [
              0.6666666666666666,
              "#ed7953"
             ],
             [
              0.7777777777777778,
              "#fb9f3a"
             ],
             [
              0.8888888888888888,
              "#fdca26"
             ],
             [
              1,
              "#f0f921"
             ]
            ],
            "type": "heatmap"
           }
          ],
          "heatmapgl": [
           {
            "colorbar": {
             "outlinewidth": 0,
             "ticks": ""
            },
            "colorscale": [
             [
              0,
              "#0d0887"
             ],
             [
              0.1111111111111111,
              "#46039f"
             ],
             [
              0.2222222222222222,
              "#7201a8"
             ],
             [
              0.3333333333333333,
              "#9c179e"
             ],
             [
              0.4444444444444444,
              "#bd3786"
             ],
             [
              0.5555555555555556,
              "#d8576b"
             ],
             [
              0.6666666666666666,
              "#ed7953"
             ],
             [
              0.7777777777777778,
              "#fb9f3a"
             ],
             [
              0.8888888888888888,
              "#fdca26"
             ],
             [
              1,
              "#f0f921"
             ]
            ],
            "type": "heatmapgl"
           }
          ],
          "histogram": [
           {
            "marker": {
             "pattern": {
              "fillmode": "overlay",
              "size": 10,
              "solidity": 0.2
             }
            },
            "type": "histogram"
           }
          ],
          "histogram2d": [
           {
            "colorbar": {
             "outlinewidth": 0,
             "ticks": ""
            },
            "colorscale": [
             [
              0,
              "#0d0887"
             ],
             [
              0.1111111111111111,
              "#46039f"
             ],
             [
              0.2222222222222222,
              "#7201a8"
             ],
             [
              0.3333333333333333,
              "#9c179e"
             ],
             [
              0.4444444444444444,
              "#bd3786"
             ],
             [
              0.5555555555555556,
              "#d8576b"
             ],
             [
              0.6666666666666666,
              "#ed7953"
             ],
             [
              0.7777777777777778,
              "#fb9f3a"
             ],
             [
              0.8888888888888888,
              "#fdca26"
             ],
             [
              1,
              "#f0f921"
             ]
            ],
            "type": "histogram2d"
           }
          ],
          "histogram2dcontour": [
           {
            "colorbar": {
             "outlinewidth": 0,
             "ticks": ""
            },
            "colorscale": [
             [
              0,
              "#0d0887"
             ],
             [
              0.1111111111111111,
              "#46039f"
             ],
             [
              0.2222222222222222,
              "#7201a8"
             ],
             [
              0.3333333333333333,
              "#9c179e"
             ],
             [
              0.4444444444444444,
              "#bd3786"
             ],
             [
              0.5555555555555556,
              "#d8576b"
             ],
             [
              0.6666666666666666,
              "#ed7953"
             ],
             [
              0.7777777777777778,
              "#fb9f3a"
             ],
             [
              0.8888888888888888,
              "#fdca26"
             ],
             [
              1,
              "#f0f921"
             ]
            ],
            "type": "histogram2dcontour"
           }
          ],
          "mesh3d": [
           {
            "colorbar": {
             "outlinewidth": 0,
             "ticks": ""
            },
            "type": "mesh3d"
           }
          ],
          "parcoords": [
           {
            "line": {
             "colorbar": {
              "outlinewidth": 0,
              "ticks": ""
             }
            },
            "type": "parcoords"
           }
          ],
          "pie": [
           {
            "automargin": true,
            "type": "pie"
           }
          ],
          "scatter": [
           {
            "marker": {
             "colorbar": {
              "outlinewidth": 0,
              "ticks": ""
             }
            },
            "type": "scatter"
           }
          ],
          "scatter3d": [
           {
            "line": {
             "colorbar": {
              "outlinewidth": 0,
              "ticks": ""
             }
            },
            "marker": {
             "colorbar": {
              "outlinewidth": 0,
              "ticks": ""
             }
            },
            "type": "scatter3d"
           }
          ],
          "scattercarpet": [
           {
            "marker": {
             "colorbar": {
              "outlinewidth": 0,
              "ticks": ""
             }
            },
            "type": "scattercarpet"
           }
          ],
          "scattergeo": [
           {
            "marker": {
             "colorbar": {
              "outlinewidth": 0,
              "ticks": ""
             }
            },
            "type": "scattergeo"
           }
          ],
          "scattergl": [
           {
            "marker": {
             "colorbar": {
              "outlinewidth": 0,
              "ticks": ""
             }
            },
            "type": "scattergl"
           }
          ],
          "scattermapbox": [
           {
            "marker": {
             "colorbar": {
              "outlinewidth": 0,
              "ticks": ""
             }
            },
            "type": "scattermapbox"
           }
          ],
          "scatterpolar": [
           {
            "marker": {
             "colorbar": {
              "outlinewidth": 0,
              "ticks": ""
             }
            },
            "type": "scatterpolar"
           }
          ],
          "scatterpolargl": [
           {
            "marker": {
             "colorbar": {
              "outlinewidth": 0,
              "ticks": ""
             }
            },
            "type": "scatterpolargl"
           }
          ],
          "scatterternary": [
           {
            "marker": {
             "colorbar": {
              "outlinewidth": 0,
              "ticks": ""
             }
            },
            "type": "scatterternary"
           }
          ],
          "surface": [
           {
            "colorbar": {
             "outlinewidth": 0,
             "ticks": ""
            },
            "colorscale": [
             [
              0,
              "#0d0887"
             ],
             [
              0.1111111111111111,
              "#46039f"
             ],
             [
              0.2222222222222222,
              "#7201a8"
             ],
             [
              0.3333333333333333,
              "#9c179e"
             ],
             [
              0.4444444444444444,
              "#bd3786"
             ],
             [
              0.5555555555555556,
              "#d8576b"
             ],
             [
              0.6666666666666666,
              "#ed7953"
             ],
             [
              0.7777777777777778,
              "#fb9f3a"
             ],
             [
              0.8888888888888888,
              "#fdca26"
             ],
             [
              1,
              "#f0f921"
             ]
            ],
            "type": "surface"
           }
          ],
          "table": [
           {
            "cells": {
             "fill": {
              "color": "#EBF0F8"
             },
             "line": {
              "color": "white"
             }
            },
            "header": {
             "fill": {
              "color": "#C8D4E3"
             },
             "line": {
              "color": "white"
             }
            },
            "type": "table"
           }
          ]
         },
         "layout": {
          "annotationdefaults": {
           "arrowcolor": "#2a3f5f",
           "arrowhead": 0,
           "arrowwidth": 1
          },
          "autotypenumbers": "strict",
          "coloraxis": {
           "colorbar": {
            "outlinewidth": 0,
            "ticks": ""
           }
          },
          "colorscale": {
           "diverging": [
            [
             0,
             "#8e0152"
            ],
            [
             0.1,
             "#c51b7d"
            ],
            [
             0.2,
             "#de77ae"
            ],
            [
             0.3,
             "#f1b6da"
            ],
            [
             0.4,
             "#fde0ef"
            ],
            [
             0.5,
             "#f7f7f7"
            ],
            [
             0.6,
             "#e6f5d0"
            ],
            [
             0.7,
             "#b8e186"
            ],
            [
             0.8,
             "#7fbc41"
            ],
            [
             0.9,
             "#4d9221"
            ],
            [
             1,
             "#276419"
            ]
           ],
           "sequential": [
            [
             0,
             "#0d0887"
            ],
            [
             0.1111111111111111,
             "#46039f"
            ],
            [
             0.2222222222222222,
             "#7201a8"
            ],
            [
             0.3333333333333333,
             "#9c179e"
            ],
            [
             0.4444444444444444,
             "#bd3786"
            ],
            [
             0.5555555555555556,
             "#d8576b"
            ],
            [
             0.6666666666666666,
             "#ed7953"
            ],
            [
             0.7777777777777778,
             "#fb9f3a"
            ],
            [
             0.8888888888888888,
             "#fdca26"
            ],
            [
             1,
             "#f0f921"
            ]
           ],
           "sequentialminus": [
            [
             0,
             "#0d0887"
            ],
            [
             0.1111111111111111,
             "#46039f"
            ],
            [
             0.2222222222222222,
             "#7201a8"
            ],
            [
             0.3333333333333333,
             "#9c179e"
            ],
            [
             0.4444444444444444,
             "#bd3786"
            ],
            [
             0.5555555555555556,
             "#d8576b"
            ],
            [
             0.6666666666666666,
             "#ed7953"
            ],
            [
             0.7777777777777778,
             "#fb9f3a"
            ],
            [
             0.8888888888888888,
             "#fdca26"
            ],
            [
             1,
             "#f0f921"
            ]
           ]
          },
          "colorway": [
           "#636efa",
           "#EF553B",
           "#00cc96",
           "#ab63fa",
           "#FFA15A",
           "#19d3f3",
           "#FF6692",
           "#B6E880",
           "#FF97FF",
           "#FECB52"
          ],
          "font": {
           "color": "#2a3f5f"
          },
          "geo": {
           "bgcolor": "white",
           "lakecolor": "white",
           "landcolor": "#E5ECF6",
           "showlakes": true,
           "showland": true,
           "subunitcolor": "white"
          },
          "hoverlabel": {
           "align": "left"
          },
          "hovermode": "closest",
          "mapbox": {
           "style": "light"
          },
          "paper_bgcolor": "white",
          "plot_bgcolor": "#E5ECF6",
          "polar": {
           "angularaxis": {
            "gridcolor": "white",
            "linecolor": "white",
            "ticks": ""
           },
           "bgcolor": "#E5ECF6",
           "radialaxis": {
            "gridcolor": "white",
            "linecolor": "white",
            "ticks": ""
           }
          },
          "scene": {
           "xaxis": {
            "backgroundcolor": "#E5ECF6",
            "gridcolor": "white",
            "gridwidth": 2,
            "linecolor": "white",
            "showbackground": true,
            "ticks": "",
            "zerolinecolor": "white"
           },
           "yaxis": {
            "backgroundcolor": "#E5ECF6",
            "gridcolor": "white",
            "gridwidth": 2,
            "linecolor": "white",
            "showbackground": true,
            "ticks": "",
            "zerolinecolor": "white"
           },
           "zaxis": {
            "backgroundcolor": "#E5ECF6",
            "gridcolor": "white",
            "gridwidth": 2,
            "linecolor": "white",
            "showbackground": true,
            "ticks": "",
            "zerolinecolor": "white"
           }
          },
          "shapedefaults": {
           "line": {
            "color": "#2a3f5f"
           }
          },
          "ternary": {
           "aaxis": {
            "gridcolor": "white",
            "linecolor": "white",
            "ticks": ""
           },
           "baxis": {
            "gridcolor": "white",
            "linecolor": "white",
            "ticks": ""
           },
           "bgcolor": "#E5ECF6",
           "caxis": {
            "gridcolor": "white",
            "linecolor": "white",
            "ticks": ""
           }
          },
          "title": {
           "x": 0.05
          },
          "xaxis": {
           "automargin": true,
           "gridcolor": "white",
           "linecolor": "white",
           "ticks": "",
           "title": {
            "standoff": 15
           },
           "zerolinecolor": "white",
           "zerolinewidth": 2
          },
          "yaxis": {
           "automargin": true,
           "gridcolor": "white",
           "linecolor": "white",
           "ticks": "",
           "title": {
            "standoff": 15
           },
           "zerolinecolor": "white",
           "zerolinewidth": 2
          }
         }
        },
        "xaxis": {
         "dtick": 1,
         "gridcolor": "rgb(0, 0, 0)",
         "side": "top",
         "ticks": ""
        },
        "yaxis": {
         "dtick": 1,
         "ticks": "",
         "ticksuffix": "  "
        }
       }
      }
     },
     "metadata": {},
     "output_type": "display_data"
    }
   ],
   "source": [
    "fig_heatmap = ff.create_annotated_heatmap(\n",
    "    z= df_num_corr.to_numpy(),\n",
    "    x= df_num_corr.columns.tolist(),\n",
    "    y= df_num_corr.index.tolist()\n",
    ")\n",
    "   \n",
    "\n",
    "fig_heatmap.show()\n",
    "    "
   ]
  }
 ],
 "metadata": {
  "interpreter": {
   "hash": "3e301a78d305c01e084cf132de00b9c92ae99799357401758fa97ddca8848048"
  },
  "kernelspec": {
   "display_name": "Python 3.7.9 64-bit ('py379': conda)",
   "language": "python",
   "name": "python3"
  },
  "language_info": {
   "codemirror_mode": {
    "name": "ipython",
    "version": 3
   },
   "file_extension": ".py",
   "mimetype": "text/x-python",
   "name": "python",
   "nbconvert_exporter": "python",
   "pygments_lexer": "ipython3",
   "version": "3.7.9"
  },
  "orig_nbformat": 4
 },
 "nbformat": 4,
 "nbformat_minor": 2
}
